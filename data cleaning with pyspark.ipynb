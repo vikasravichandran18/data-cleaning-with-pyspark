{
  "nbformat": 4,
  "nbformat_minor": 0,
  "metadata": {
    "colab": {
      "provenance": []
    },
    "kernelspec": {
      "name": "python3",
      "display_name": "Python 3"
    },
    "language_info": {
      "name": "python"
    }
  },
  "cells": [
    {
      "cell_type": "code",
      "execution_count": 1,
      "metadata": {
        "colab": {
          "base_uri": "https://localhost:8080/"
        },
        "id": "i3orXCQ9TQ29",
        "outputId": "63ba9140-e86c-4784-d551-b2a1db0609f5"
      },
      "outputs": [
        {
          "output_type": "stream",
          "name": "stdout",
          "text": [
            "Initial Dataset:\n",
            "+-------+----------+----+-----------------+---------+-------------+----------+--------------------+---------------+---------------+----+----------------------------+-------+------+\n",
            "|alcohol|malic_acid| ash|alcalinity_of_ash|magnesium|total_phenols|flavanoids|nonflavanoid_phenols|proanthocyanins|color_intensity| hue|od280/od315_of_diluted_wines|proline|target|\n",
            "+-------+----------+----+-----------------+---------+-------------+----------+--------------------+---------------+---------------+----+----------------------------+-------+------+\n",
            "|  14.23|      1.71|2.43|             15.6|    127.0|          2.8|      3.06|                0.28|           2.29|           5.64|1.04|                        3.92| 1065.0|     0|\n",
            "|   13.2|      1.78|2.14|             11.2|    100.0|         2.65|      2.76|                0.26|           1.28|           4.38|1.05|                         3.4| 1050.0|     0|\n",
            "|  13.16|      2.36|2.67|             18.6|    101.0|          2.8|      3.24|                 0.3|           2.81|           5.68|1.03|                        3.17| 1185.0|     0|\n",
            "|  14.37|      1.95| 2.5|             16.8|    113.0|         3.85|      3.49|                0.24|           2.18|            7.8|0.86|                        3.45| 1480.0|     0|\n",
            "|  13.24|      2.59|2.87|             21.0|    118.0|          2.8|      2.69|                0.39|           1.82|           4.32|1.04|                        2.93|  735.0|     0|\n",
            "+-------+----------+----+-----------------+---------+-------------+----------+--------------------+---------------+---------------+----+----------------------------+-------+------+\n",
            "only showing top 5 rows\n",
            "\n",
            "Initial count: 183\n",
            "After removing duplicates: 178\n",
            "✅ Data cleaning completed. Saved as 'wine_cleaned_pyspark.csv'\n"
          ]
        }
      ],
      "source": [
        "\n",
        "\n",
        "from pyspark.sql import SparkSession\n",
        "from pyspark.sql.functions import col, mean\n",
        "import pandas as pd\n",
        "from sklearn.datasets import load_wine\n",
        "import numpy as np\n",
        "\n",
        "spark = SparkSession.builder \\\n",
        "    .appName(\"WineDataCleaning\") \\\n",
        "    .getOrCreate()\n",
        "\n",
        "wine = load_wine()\n",
        "df_pd = pd.DataFrame(wine.data, columns=wine.feature_names)\n",
        "df_pd[\"target\"] = wine.target\n",
        "\n",
        "\n",
        "df_pd.loc[5:10, \"alcohol\"] = np.nan\n",
        "df_pd.loc[20:22, \"malic_acid\"] = np.nan\n",
        "df_pd = pd.concat([df_pd, df_pd.iloc[0:5]])\n",
        "df_pd.to_csv(\"wine_raw.csv\", index=False)\n",
        "df = spark.read.csv(\"wine_raw.csv\", header=True, inferSchema=True)\n",
        "print(\"Initial Dataset:\")\n",
        "df.show(5)\n",
        "print(f\"Initial count: {df.count()}\")\n",
        "df = df.dropDuplicates()\n",
        "print(f\"After removing duplicates: {df.count()}\")\n",
        "num_cols = [col_name for col_name, dtype in df.dtypes if dtype in [\"double\", \"int\"]]\n",
        "for c in num_cols:\n",
        "    mean_value = df.select(mean(col(c))).first()[0]\n",
        "    df = df.na.fill({c: mean_value})\n",
        "\n",
        "df = df.filter((col(\"alcohol\") >= 0) & (col(\"alcohol\") <= 20))\n",
        "\n",
        "\n",
        "df.write.csv(\"wine_cleaned_pyspark.csv\", header=True, mode=\"overwrite\")\n",
        "\n",
        "print(\"✅ Data cleaning completed. Saved as 'wine_cleaned_pyspark.csv'\")\n",
        "\n",
        "spark.stop()\n"
      ]
    }
  ]
}